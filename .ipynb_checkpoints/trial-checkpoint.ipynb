{
 "cells": [
  {
   "cell_type": "code",
   "execution_count": 19,
   "id": "5c2637d4-b95a-4b60-97d2-4aa84c3195de",
   "metadata": {},
   "outputs": [],
   "source": [
    "import json\n",
    "import os"
   ]
  },
  {
   "cell_type": "code",
   "execution_count": 20,
   "id": "d21f9341-866b-43c5-a338-8eb8b6a3f69a",
   "metadata": {},
   "outputs": [],
   "source": [
    "def load_news_data_from_folder(folder_path):\n",
    "    news_data = []\n",
    "    for filename in os.listdir(folder_path):\n",
    "        if filename.endswith('.json'):\n",
    "            file_path = os.path.join(folder_path, filename)\n",
    "            with open(file_path, 'r', encoding='utf-8') as file:\n",
    "                news_data.append(json.load(file))\n",
    "    return news_data"
   ]
  },
  {
   "cell_type": "code",
   "execution_count": 21,
   "id": "0287d619-5673-46a5-8d12-2b567b34f545",
   "metadata": {},
   "outputs": [],
   "source": [
    "def load_news_data(base_folder):\n",
    "    sections = {}\n",
    "    for folder_name in os.listdir(base_folder):\n",
    "        folder_path = os.path.join(base_folder, folder_name)\n",
    "        if os.path.isdir(folder_path):\n",
    "            sections[folder_name] = load_news_data_from_folder(folder_path)\n",
    "    return sections"
   ]
  },
  {
   "cell_type": "code",
   "execution_count": 24,
   "id": "35377f4c-9004-443d-b7be-ad5ee60b4eeb",
   "metadata": {},
   "outputs": [
    {
     "ename": "FileNotFoundError",
     "evalue": "[WinError 3] El sistema no puede encontrar la ruta especificada: '../data_'",
     "output_type": "error",
     "traceback": [
      "\u001b[1;31m---------------------------------------------------------------------------\u001b[0m",
      "\u001b[1;31mFileNotFoundError\u001b[0m                         Traceback (most recent call last)",
      "Cell \u001b[1;32mIn[24], line 2\u001b[0m\n\u001b[0;32m      1\u001b[0m data_folder_path \u001b[38;5;241m=\u001b[39m \u001b[38;5;124m'\u001b[39m\u001b[38;5;124m../data_\u001b[39m\u001b[38;5;124m'\u001b[39m\n\u001b[1;32m----> 2\u001b[0m sections_data \u001b[38;5;241m=\u001b[39m load_news_data(data_folder_path)\n\u001b[0;32m      3\u001b[0m \u001b[38;5;28mprint\u001b[39m(sections_data)\n",
      "Cell \u001b[1;32mIn[21], line 3\u001b[0m, in \u001b[0;36mload_news_data\u001b[1;34m(base_folder)\u001b[0m\n\u001b[0;32m      1\u001b[0m \u001b[38;5;28;01mdef\u001b[39;00m \u001b[38;5;21mload_news_data\u001b[39m(base_folder):\n\u001b[0;32m      2\u001b[0m     sections \u001b[38;5;241m=\u001b[39m {}\n\u001b[1;32m----> 3\u001b[0m     \u001b[38;5;28;01mfor\u001b[39;00m folder_name \u001b[38;5;129;01min\u001b[39;00m os\u001b[38;5;241m.\u001b[39mlistdir(base_folder):\n\u001b[0;32m      4\u001b[0m         folder_path \u001b[38;5;241m=\u001b[39m os\u001b[38;5;241m.\u001b[39mpath\u001b[38;5;241m.\u001b[39mjoin(base_folder, folder_name)\n\u001b[0;32m      5\u001b[0m         \u001b[38;5;28;01mif\u001b[39;00m os\u001b[38;5;241m.\u001b[39mpath\u001b[38;5;241m.\u001b[39misdir(folder_path):\n",
      "\u001b[1;31mFileNotFoundError\u001b[0m: [WinError 3] El sistema no puede encontrar la ruta especificada: '../data_'"
     ]
    }
   ],
   "source": [
    "data_folder_path = '../data_'\n",
    "sections_data = load_news_data(data_folder_path)\n",
    "print(sections_data)  # Esto imprimirá los datos cargados para cada sección.\n"
   ]
  },
  {
   "cell_type": "code",
   "execution_count": 18,
   "id": "1ba2a0b7-646d-4bcd-bbc6-ad995ab1ba9c",
   "metadata": {},
   "outputs": [
    {
     "ename": "TypeError",
     "evalue": "list indices must be integers or slices, not str",
     "output_type": "error",
     "traceback": [
      "\u001b[1;31m---------------------------------------------------------------------------\u001b[0m",
      "\u001b[1;31mTypeError\u001b[0m                                 Traceback (most recent call last)",
      "Cell \u001b[1;32mIn[18], line 1\u001b[0m\n\u001b[1;32m----> 1\u001b[0m sections_data[ \u001b[38;5;124m'\u001b[39m\u001b[38;5;124mSección 1\u001b[39m\u001b[38;5;124m'\u001b[39m ]\n",
      "\u001b[1;31mTypeError\u001b[0m: list indices must be integers or slices, not str"
     ]
    }
   ],
   "source": [
    "sections_data"
   ]
  },
  {
   "cell_type": "code",
   "execution_count": null,
   "id": "34dc6f6f-fdac-4d20-8dc6-ca349e60e585",
   "metadata": {},
   "outputs": [],
   "source": []
  }
 ],
 "metadata": {
  "kernelspec": {
   "display_name": "Python 3 (ipykernel)",
   "language": "python",
   "name": "python3"
  },
  "language_info": {
   "codemirror_mode": {
    "name": "ipython",
    "version": 3
   },
   "file_extension": ".py",
   "mimetype": "text/x-python",
   "name": "python",
   "nbconvert_exporter": "python",
   "pygments_lexer": "ipython3",
   "version": "3.11.5"
  }
 },
 "nbformat": 4,
 "nbformat_minor": 5
}
