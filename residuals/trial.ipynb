{
 "cells": [
  {
   "cell_type": "code",
   "execution_count": 1,
   "id": "5c2637d4-b95a-4b60-97d2-4aa84c3195de",
   "metadata": {},
   "outputs": [],
   "source": [
    "import json\n",
    "import os"
   ]
  },
  {
   "cell_type": "code",
   "execution_count": 2,
   "id": "d21f9341-866b-43c5-a338-8eb8b6a3f69a",
   "metadata": {},
   "outputs": [],
   "source": [
    "def load_news_data_from_folder(folder_path):\n",
    "    news_data = []\n",
    "    for filename in os.listdir(folder_path):\n",
    "        if filename.endswith('.json'):\n",
    "            file_path = os.path.join(folder_path, filename)\n",
    "            with open(file_path, 'r', encoding='utf-8') as file:\n",
    "                news_data.append(json.load(file))\n",
    "    return news_data"
   ]
  },
  {
   "cell_type": "code",
   "execution_count": 3,
   "id": "0287d619-5673-46a5-8d12-2b567b34f545",
   "metadata": {},
   "outputs": [],
   "source": [
    "def load_news_data(base_folder):\n",
    "    sections = {}\n",
    "    for folder_name in os.listdir(base_folder):\n",
    "        folder_path = os.path.join(base_folder, folder_name)\n",
    "        if os.path.isdir(folder_path):\n",
    "            sections[folder_name] = load_news_data_from_folder(folder_path)\n",
    "    return sections"
   ]
  },
  {
   "cell_type": "code",
   "execution_count": 8,
   "id": "483c67c8-a333-4a90-a8d2-589a986bd1ac",
   "metadata": {},
   "outputs": [],
   "source": [
    "def generate_news_section(section_name, news_data):\n",
    "    news_items_html = \"\"\n",
    "    for news in news_data:\n",
    "        news_item_html = f\"\"\"\n",
    "        <div class=\"news-item\">\n",
    "            <img src=\"{news['images'][0]}\" class=\"news-image\">\n",
    "            <div class=\"news-content\">\n",
    "                <div class=\"news-title\">{news['title']}</div>\n",
    "                <div class=\"news-summary\">{news['summary']}</div>\n",
    "                <a href=\"{news['actual_link']}\" class=\"news-link\">Leer más</a>\n",
    "            </div>\n",
    "        </div>\n",
    "        \"\"\"\n",
    "        news_items_html += news_item_html\n",
    "    return f\"<h2 class='news-title-center'>{section_name}</h2>{news_items_html}\""
   ]
  },
  {
   "cell_type": "code",
   "execution_count": 4,
   "id": "35377f4c-9004-443d-b7be-ad5ee60b4eeb",
   "metadata": {
    "collapsed": true,
    "jupyter": {
     "outputs_hidden": true
    }
   },
   "outputs": [
    {
     "name": "stdout",
     "output_type": "stream",
     "text": [
      "{'Sección 1': [{'images': ['http://a.files.bbci.co.uk/worldservice/live/assets/images/2014/09/22/140922074747_museo_britanico_144x81_getty_nocredit.jpg'], 'published': '2014-09-22T07:45:19+00:00', 'title': 'Recrearán el Museo Británico en el video juego Minecraft', 'actual_link': 'http://www.bbc.co.uk/mundo/ultimas_noticias/2014/09/140922_ultnot_museo_britanico_minecraft_nc.shtml', 'content': '', 'summary': 'El proyecto es parte del programa Futuro del museo, que tiene el objetivo de llegar a un público más amplio. Se espera que la primera etapa de construcción digital se complete para el 16 de octubre.'}, {'images': ['https://elcomercio.pe/resizer/HVHyfa9QmGL2em6SI76sK6PksK4=/cloudfront-us-east-1.images.arcpublishing.com/elcomercio/HBZ36MMTDFFGHEYGD2MFCQ2ONU.jpg'], 'published': 'Mon, 04 Dec 2023 14:54:32 +0000', 'title': 'Línea 1 del Metro de Lima suspende servicios tras reportar fallas en el sistema', 'actual_link': 'https://elcomercio.pe/lima/transporte/linea-1-del-metro-de-lima-suspende-servicios-tras-reportar-fallas-en-el-sistema-ultimas-noticia/', 'content': '<ul><li>&lt;a href=\"https://elcomercio.pe/lima/policiales/miraflores-sujetos-roban-celulares-de-alta-gama-en-conocida-tienda-de-telefonia-ultimas-noticia/\"&gt;&lt;b&gt;Miraflores: Sujetos roban celulares de alta gama en conocida tienda de telefonía&lt;/b&gt;&lt;/a&gt;</li><li>&lt;a href=\"https://elcomercio.pe/lima/poder-judicial-evaluara-apelacion-contra-fallo-por-la-compra-de-epensa-hace-mas-de-10-anos-por-parte-del-grupo-el-comercio-pluralismo-informativo-ultimas-noticia/\"&gt;&lt;b&gt;Poder Judicial evaluará apelación contra fallo por la compra de Epensa hace más de 10 años por parte del Grupo El Comercio&lt;/b&gt;&lt;/a&gt;</li></ul><p>&lt;b&gt;Decenas de usuarios del &lt;/b&gt;&lt;a href=\"https://elcomercio.pe/noticias/metro-de-lima/\" target=\"_blank\"&gt;&lt;b&gt;Metro de Lima&lt;/b&gt;&lt;/a&gt;&lt;b&gt; reportaron la interrupción del servicio e indicaron que estuvieron esperando durante varias horas que pase un tren. Ante esta situación la&lt;/b&gt;&lt;a href=\"https://elcomercio.pe/noticias/atu/\" target=\"_blank\"&gt;&lt;b&gt; ATU&lt;/b&gt;&lt;/a&gt;&lt;b&gt; informó que el servicio se encuentra suspendido desde la Estación Villa El Salvador hasta la Estación San Juan, donde los trenes no harán paradas.&lt;/b&gt;</p><q>LEE: &lt;a href=\"https://elcomercio.pe/lima/sucesos/callao-detectan-una-mafia-que-opera-en-el-interior-del-centro-de-emision-de-licencia-de-conducir-y-que-cobra-por-resolver-el-examen-de-reglas-ciro-castillo-brevete-ultimas-noticia/\"&gt;Callao: una mafia opera en el Centro de Emisión de Licencia de Conducir y cobra por resolver el examen de reglas&lt;/a&gt;</q><p>El Metro de Lima emitió un comunicado solicitando a los usuarios que sigan las indicaciones del personal y lamentando las molestias causadas, mientras trabajan para restablecer el servicio completo en los terminales Villa El Salvador, Parque Industrial, Pumacahua, Villa María, María Auxiliadora y San Juan.</p><p>Cabe mencionar que la estación San Martín también ha cerrado sus puertas porque presenta problemas técnicos que han impedido el normal desplazamiento de los trenes.</p><p>&lt;blockquote class=\"twitter-tweet\"&gt;&lt;p lang=\"es\" dir=\"ltr\"&gt;&lt;a href=\"https://twitter.com/hashtag/ATUInforma?src=hash&amp;amp;ref_src=twsrc%5Etfw\"&gt;#ATUInforma&lt;/a&gt; | Debido a fallas técnicas, los trenes de la &lt;a href=\"https://twitter.com/Lineaunope?ref_src=twsrc%5Etfw\"&gt;@Lineaunope&lt;/a&gt; presentan demoras, por lo que solo se prestará servicio desde la estación Ayacucho hasta la Estación Bayóvar, ida y vuelta. &lt;a href=\"https://t.co/27oOCUdgme\"&gt;pic.twitter.com/27oOCUdgme&lt;/a&gt;&lt;/p&gt;&amp;mdash; Autoridad de Transporte Urbano (@ATU_GobPeru) &lt;a href=\"https://twitter.com/ATU_GobPeru/status/1731667486351765742?ref_src=twsrc%5Etfw\"&gt;December 4, 2023&lt;/a&gt;&lt;/blockquote&gt; &lt;script async src=\"https://platform.twitter.com/widgets.js\" charset=\"utf-8\"&gt;&lt;/script&gt;</p><q>MÁS: &lt;a href=\"https://elcomercio.pe/lima/policiales/san-juan-de-miraflores-hombre-murio-baleado-tras-ser-usado-como-escudo-humano-por-extranjero-que-trataba-de-escapar-del-ataque-de-sicarios-video-juan-wilber-espinoza-paredes-javier-fernando-vadenilla-pinto-sjm-balacera-ultimas-noticia/\"&gt;SJM: hombre murió baleado tras ser usado como escudo humano por extranjero que huía de sicarios | VIDEO&lt;/a&gt;</q><h2>&lt;mark class=\"hl_yellow\"&gt;&lt;b&gt;¿Qué estaciones están funcionando en el Metro de Lima?&lt;/b&gt;&lt;/mark&gt;</h2><p>De acuerdo a la empresa, los tres transitan con normalidad en las siguientes estaciones:</p><ul><li>Bayovar</li><li>Santa Rosa</li><li>San Martín</li><li>San Carlos</li><li>Los Postes</li><li>Los Jardínes</li><li>Pirámide del Sol</li><li>Caja de Agua</li><li>Presbítero Maestro</li><li>El Ángel</li><li>Miguel Grau</li><li>Gamarra</li><li>Arriola</li><li>La Cultura</li><li>San Borja Sur</li><li>Angamos</li><li>Cabitos</li></ul>', 'summary': 'El Metro de Lima recomendó a los pasajeros seguir las indicaciones del personal de estaciones.'}], 'Sección 2': [{'images': ['http://a.files.bbci.co.uk/worldservice/live/assets/images/2014/09/23/140923122531_sp_siria_reuters_144.jpg'], 'published': '2014-09-23T11:27:42+00:00', 'title': 'Boletín: Primer ataque de EE.UU. y aliados árabes contra Estado Islámico en Siria y otras noticias', 'actual_link': 'http://www.bbc.co.uk/mundo/video_fotos/2014/09/140923_video_boletin_noticias_re.shtml', 'content': '', 'summary': 'Además, Israel mata a dos palestinos que presuntamente asesinaron a tres jóvenes israelíes en junio, OMS advierte que para noviembre podría haber 20.000 casos de ébola, y arranca cumbre del clima de la ONU en Nueva York. La actualidad en 1 minuto.'}, {'images': ['http://a.files.bbci.co.uk/worldservice/live/assets/images/2014/09/01/140901161938_chile_michelle_bachelet_economia_plan_emergencia_144x81_europeanphotopressagency_nocredit.jpg'], 'published': '2014-09-01T16:06:30+00:00', 'title': 'Chile: Bachelet anuncia plan de US$500 millones para reforzar economía', 'actual_link': 'http://www.bbc.co.uk/mundo/ultimas_noticias/2014/09/140901_ultnot_chile_bachelet_anuncia_plan_reforzar_economia_lv.shtml', 'content': '', 'summary': 'El Plan de Reforzamiento de la Inversión 2014 contempla inyectar los fondos en el último cuatrimestre del año para combatir la desaceleración.'}], 'Sección 3': [{'images': ['https://gestion.pe/resizer/wOMSiYOGOICv0daVOjE6lqLpweU=/cloudfront-us-east-1.images.arcpublishing.com/elcomercio/JHK4LGT7AJGXLEWT53MBA3SRPU.jpg'], 'published': 'Tue, 05 Dec 2023 22:55:00 +0000', 'title': 'Reducción de la Jornada Laboral en México: ¿En qué consiste y cuándo será aprobada la propuesta?', 'actual_link': 'https://gestion.pe/mix/respuestas/jornada-laboral-de-40-horas-a-la-semana-en-mexico-en-que-consiste-desde-cuando-aplica-y-mas-nnda-nnlt-noticia/', 'content': '<p>El proyecto que busca la reducción de la &lt;b&gt;jornada laboral en México&lt;/b&gt; de 48 a 40 horas ha polarizado la opinión de los mexicanos, ya que no solo se viene debatiendo en la &lt;b&gt;Cámara de Diputados &lt;/b&gt;sino que, al mismo tiempo, en las calles: si bien una buena parte apoya la medida, considerando que el país norteamericano es uno de los que mayor índice de horas de trabajo tiene; la otra, más bien, está llena de dudas sobre la modificación de la &lt;a href=\"https://www.gob.mx/cms/uploads/attachment/file/156203/1044_Ley_Federal_del_Trabajo.pdf\" target=\"_blank\"&gt;&lt;b&gt;Ley Federal del Trabajo&lt;/b&gt;&lt;/a&gt;&lt;b&gt; (LFT)&lt;/b&gt;, alterada por última vez en 1917 con el &lt;a href=\"https://www.scjn.gob.mx/sites/default/files/cpeum/documento/2017-03/CPEUM-123.pdf\"&gt;&lt;b&gt;Artículo 123 de la Constitución Política&lt;/b&gt;&lt;/a&gt;.</p><p>La reducción de la jornada laboral máxima de 40 horas no es la única enmienda que se ha aplicado a esta ley durante el presente ejercicio. También ha abordado otros aspectos como la ampliación del periodo de descanso vacacional, aumentando proporcionalmente a los años de antigüedad en la empresa hasta un máximo de 30 días (actualmente son mínimo 12 días de vacaciones).</p><img alt=\"Un charro mexicano sostiene una bandera de México por las calles de Guadalajara, estado de Jalisco (Foto: AFP)\" height=\"1200\" src=\"https://gestion.pe/resizer/f8bfg0OHnksGvyb8eYG1FDXGzNQ=/cloudfront-us-east-1.images.arcpublishing.com/elcomercio/WQP3X4TAM5H2LGRJ7TL2K3MZAY.jpg\" width=\"1600\" /><h2>&lt;b&gt;¿De qué trata la Reforma a la Jornada Laboral de 40 horas en México?&lt;/b&gt;</h2><p>La senadora &lt;b&gt;Patricia Mercado&lt;/b&gt; de la bancada de Movimiento Ciudadano fue la política que propuso la reforma recién aprobada ‘Vacaciones Dignas’, y que hace unos meses volvió a poner sobre la mesa una nueva reforma laboral para reducir el número de horas de las jornadas laborales en México. Es decir, la propuesta busca modificar el artículo 123 Constitucional para &lt;b&gt;reducir la jornada laboral de 48 a 40 horas,&lt;/b&gt; con dos días de descanso por cada cinco laborados.</p><p>El pasado 26 de abril de 2023, la Comisión de Puntos Constitucionales de la Cámara de Diputados aprobó - con 27 votos a favor y 5 abstenciones - el dictamen para modificar la Ley Federal del Trabajo. Aunque era una iniciativa que requería atención inmediata, desde aquella fecha no entró a discusión en las sesiones, dejándose de lado por más de cuatro meses, pero el 1 de setiembre todo cambió y fue retomado en el nuevo periodo ordinario de sesiones.</p><p>La legisladora morenista Susana Prieto informó que la propuesta para una nueva jornada laboral de 40 horas a la semana es discutida por los diputados federales que integran la Junta de Coordinación Política de la cámara baja; con esto se buscaría agendar este importante tema, precisa &lt;a href=\"https://www.debate.com.mx/consejos/Jornada-laboral-40-horas-este-dia-es-definitivo-para-la-reforma-a-la-Ley-Federal-del-Trabajo-20230918-0195.html\" target=\"_blank\"&gt;Debate&lt;/a&gt;.</p><p>&lt;iframe width=\"100%\" height=\"315\" src=\"https://www.youtube.com/embed/oLTa7-DnrME?si=RgwSGsJ4VUYrP5I5\" title=\"YouTube video player\" frameborder=\"0\" allow=\"accelerometer; autoplay; clipboard-write; encrypted-media; gyroscope; picture-in-picture; web-share\" allowfullscreen&gt;&lt;/iframe&gt;</p><h2>&lt;b&gt;¿Cuál es la actual Reforma Laboral que tiene México?&lt;/b&gt;</h2><p>La &lt;b&gt;Ley Federal del Trabajo&lt;/b&gt; establece una jornada laboral en México de 48 horas semanales repartido en seis días y con goce de un día de descanso. &lt;b&gt;“Por cada seis días de trabajo deberá disfrutar el operario de un día de descanso, cuando menos”,&lt;/b&gt; establece la Constitución.</p><table><thead><tr><th>&lt;b&gt;Tipo de jornada&lt;/b&gt;</th><th>&lt;b&gt;Periodo de tiempo que abarca la jornada&lt;/b&gt;</th><th>&lt;b&gt;Duración máxima de la jornada&lt;/b&gt;</th></tr></thead><tbody><tr><td>Diurna</td><td>El comprendido entre las seis y las veinte horas</td><td>8 horas</td></tr><tr><td>Nocturna</td><td>El comprendido entre las 20 y las 6 horas</td><td>7 horas</td></tr><tr><td>Mixta</td><td>Comprende periodos de tiempo de las jornadas diurna y nocturna, siempre que el periodo nocturno sea menor de tres horas y media, ya que, si comprende tres y media o más horas, se reputará jornada nocturna</td><td>7 horas y 30 minutos</td></tr></tbody></table><h2>&lt;b&gt;¿Qué normas tiene la Ley Federal del Trabajo en México?&lt;/b&gt;</h2><p>La Ley Federal del Trabajo contiene otras normas relacionadas con la jornada de trabajo, mismas que a continuación se describen:</p><ul><li>La persona trabajadora y el patrón, determinarán la duración de la jornada de trabajo, sin que pueda exceder los máximos legales especificados en la tabla anterior.</li><li>La persona trabajadora y el patrón, podrán repartir las horas de trabajo, a fin de permitir a la primera el reposo del sábado en la tarde o cualquier modalidad equivalente.</li><li>Durante la jornada continua de trabajo se concederá a la persona trabajadora un descanso de por lo menos, media hora.</li><li>Cuando la persona trabajadora no pueda salir del lugar donde presta sus servicios durante las horas de reposo o de comidas, el tiempo correspondiente le será computado como tiempo efectivo de la jornada de trabajo.</li><li>En los casos de siniestro o riesgo inminente en que peligre la vida de la persona trabajadora, de sus compañeras o compañeros o del patrón, o la existencia misma de la empresa, la jornada de trabajo podrá prolongarse por el tiempo estrictamente indispensable para evitar esas circunstancias; pagándose las horas de trabajo con una cantidad igual a la que corresponda a cada una de las horas de la jornada.</li><li>También podrá prolongarse la jornada de trabajo por circunstancias extraordinarias, sin exceder nunca de tres horas diarias ni de tres veces a la semana. Estas horas de trabajo extraordinario se cubrirán con un ciento por ciento más del salario que corresponda a cada una de las horas de la jornada.</li><li>La persona trabajadora no está obligada a prestar sus servicios por un tiempo mayor del permitido para cada una de las referidas jornadas.</li><li>La prolongación del tiempo extraordinario que exceda de nueve horas a la semana, obliga al patrón a pagar a la persona trabajadora el tiempo excedente con un doscientos por ciento más del salario que corresponda a cada una de las horas de la jornada.</li><li>La jornada de trabajo de los menores de 16 años no podrá exceder de seis horas diarias y deberán dividirse en períodos máximos de tres horas. Entre los distintos períodos de la jornada, disfrutarán de reposos de una hora por lo menos.</li><li>Está prohibida la utilización del trabajo de los menores de dieciocho años, en horas extraordinarias y en los días domingos y de descanso obligatorio. En caso de incumplimiento de esta prohibición, las horas extraordinarias se pagarán con un doscientos por ciento más del salario que corresponda a cada una de las horas de la jornada, y el salario de los días domingos y de descanso obligatorio, con un salario doble por el servicio prestado, independientemente del salario que se les deba cubrir por cada día domingo o de descanso obligatorio.</li></ul><h2>&lt;b&gt;¿Qué cambios impiden en la Ley Federal del Trabajo?&lt;/b&gt;</h2><p>La modificación de la Ley Federal de Trabajo pretende reformar el apartado A del artículo 123 de la Constitución Política de México en materia de días de descanso y reducción de la jornada laboral. Así tenemos:</p><ul><li>Reducir de 48 a 40 las horas semanales de trabajo.</li><li>Otorgar dos días de descanso por cada cinco trabajados.</li></ul><p>&lt;iframe width=\"100%\" height=\"497\" src=\"https://www.youtube.com/embed/fnC8_X6oBK4\" title=\"Reducen semana laboral de 48 a 40 horas - N+\" frameborder=\"0\" allow=\"accelerometer; autoplay; clipboard-write; encrypted-media; gyroscope; picture-in-picture; web-share\" allowfullscreen&gt;&lt;/iframe&gt;</p><h2>&lt;b&gt;¿Qué dice la Constitución sobre la Jornada Laboral en México?&lt;/b&gt;</h2><p>En el apartado A del artículo 123 de la Constitución Política de México se menciona el cumplimiento obligatorio de dos puntos (en los numerales en romanos I y IV):</p><ul><li>La duración de la jornada máxima será de ocho horas.</li><li>Por cada seis días de trabajo deberá disfrutar el operario de un día de descanso, cuando menos.</li></ul><img alt=\"La bandera de México (Foto: Shutterstock)\" height=\"800\" src=\"https://gestion.pe/resizer/a3SFUXIuhhnIOguN_tHisrr7Xig=/cloudfront-us-east-1.images.arcpublishing.com/elcomercio/UXWT4OSB5VDFFBA4K2P2GVZ6II.jpg\" width=\"1300\" /><h2>&lt;b&gt;¿Qué pasará si se decreta la nueva Jornada Laboral en México?&lt;/b&gt;</h2><p>Para que la reforma laboral se concrete, lo primero que debe pasar es que sea &lt;b&gt;aprobada por la Cámara de Diputados&lt;/b&gt; (algo que ya se dio), &lt;b&gt;así como por el Senado&lt;/b&gt;, que puede modificar o retornarla a su cámara de origen. Tras ello, requerirá la aprobación de al menos 17 estados de la República Mexicana, precisa &lt;a href=\"https://lasillarota.com/nacion/2023/9/17/jornada-laboral-cuando-inician-los-nuevos-horarios-en-el-trabajo-de-mexico-448094.html\" target=\"_blank\"&gt;La Silla Rota&lt;/a&gt;.</p><h2>&lt;b&gt;¿Qué pasará con mi hora de comida con la nueva Jornada Laboral en México?&lt;/b&gt;</h2><p>De acuerdo con el &lt;a href=\"https://www.senado.gob.mx/65/gaceta_del_senado/documento/15084\" target=\"_blank\"&gt;artículo 63 de la Ley Federal del Trabajo&lt;/a&gt;, los trabajadores tienen derecho a un descanso de media hora, por lo menos, durante la jornada continua de trabajo. Este descanso se considera como tiempo efectivo de la jornada laboral, por lo que no debería ser descontado del salario del trabajador.</p><p>Por lo tanto, si se aprueba la iniciativa por la reforma para la reducción de la jornada laboral, los trabajadores seguirán teniendo este derecho protegido por ley.</p><h2>&lt;b&gt;¿Qué fecha entra en vigencia la nueva Jornada Laboral en México?&lt;/b&gt;</h2><p>Una vez que la reforma sea aprobada por las respectivas cámaras y llegue al Poder Ejecutivo, este determinará su publicación en el Diario Oficial de la Federación, fecha en la que entrará en vigor.</p><h2>&lt;b&gt;¿Quiénes están en contra de la nueva Jornada Laboral?&lt;/b&gt;</h2><p>Aunque los trabajadores están a la expectativa de su aprobación, hay entidades que se han pronunciado en contra, entre ellos la &lt;b&gt;Confederación Patronal de la República Mexicana (Coparmex)&lt;/b&gt; que considera un &lt;b&gt;impacto negativo para la economía&lt;/b&gt; de las empresas, en especial de las &lt;b&gt;Pymes&lt;/b&gt;, pero si se da de todas formas, pide que se dé de forma gradual.</p><p>“&lt;i&gt;Este año inició con tres aumentos de costo: el salario mínimo (20%), aumento de días de vacaciones (6 a 12), porque éramos el país con menos días en América Latina. Esto es un aumento de costo y el otro es la ley que propusimos desde el sector empresarial de subir el Fondo de Pensiones para que cuando terminen su periodo laboral tengan una pensión digna&lt;/i&gt;”, inició &lt;b&gt;José Medina Mora Icaza&lt;/b&gt;, presidente de COPARMEX.</p><p>En ese sentido, para el titular del gremio empresarial, la manera de compensar las prestaciones que recibirán los trabajadores y los costos que asumirán las organizaciones es con un aumento en la productividad.</p><p>“&lt;i&gt;Que descansen dos días a la semana sería muy bueno, pero tenemos vacantes abiertas que no podemos cubrir. Los mismos trabajadores harán doble turno. No descansa y hay que pagar horas extras dobles y triples&lt;/i&gt;”, añadió.</p><p>&lt;iframe width=\"100%\" height=\"614\" src=\"https://www.youtube.com/embed/lmhFFp8iCZc\" title=\"Reducción de las horas laborales en México.\" frameborder=\"0\" allow=\"accelerometer; autoplay; clipboard-write; encrypted-media; gyroscope; picture-in-picture; web-share\" allowfullscreen&gt;&lt;/iframe&gt;</p><h2>&lt;b&gt;¿Cuáles son los países que más trabajan en el mundo?&lt;/b&gt;</h2><p>Mientras que media Europa se prepara para afrontar los retos de una jornada laboral de 4 días con 32 horas, en México ultiman los detalles para reducir su jornada laboral hasta las 40 horas semanales. Algunos de los países con &lt;b&gt;menos horas trabajadas&lt;/b&gt; se conforman de la siguiente manera:</p><ul><li>Chile: 45 horas semanales</li><li>Turquía: 45 horas</li><li>Israel: 42 horas</li></ul><p>Además, alrededor de cuatro países más también se posicionan en el listado con una amplia jornada de trabajo de forma anual y son:</p><ul><li>Costa Rica: 2 mil 60 horas al año</li><li>Corea del Sur: mil 967</li><li>Rusia: mil 965</li><li>Grecia: mil 949</li></ul><img alt=\"Un grupo de trabajadores en Chile (Foto: Gobierno de Chile / Composición)\" height=\"800\" src=\"https://gestion.pe/resizer/EuFFdCnpD50qdqWgrz9jafoHmOQ=/cloudfront-us-east-1.images.arcpublishing.com/elcomercio/AQROKA3GCZFU5INCUTIHIW74YI.png\" width=\"1200\" /><h2>&lt;b&gt;¿Cuáles son los países que más horas trabajan de forma anual?&lt;/b&gt;</h2><p>Con el cambio que propone la Jornada Laboral, el país que dirige AMLO abandonará el primer lugar de los miembros de la &lt;b&gt;Organización para la Cooperación y Desarrollo Económico&lt;/b&gt; con mayor promedio de horas trabajadas en el año en una lista que lo conforman 38 países. México encabeza la lista con 2.226 horas anual trabajadas, seguido por Costa Rica con 2.149 horas y por Chile con 1.963 horas. Con la nueva medida, el país azteca apuesta por priorizar la productividad frente a la presencialidad.</p><table><thead><tr><th>País</th><th>Horas / año</th></tr></thead><tbody><tr><td>México</td><td>2,226</td></tr><tr><td>Colombia</td><td>1,963.9</td></tr><tr><td>Costa Rica</td><td>2,073.3</td></tr><tr><td>Chile</td><td>1915.6</td></tr><tr><td>Promedio OCDE</td><td>1715.8</td></tr></tbody></table><h2>&lt;b&gt;¿Qué países tienen una semana laboral de 40 horas?&lt;/b&gt;</h2><p>La reducción de las horas laborales conlleva a una mayor eficacia, pues se pasa del énfasis en la cantidad a la importancia de la calidad. En México, los trabajadores tienen poco tiempo para compartir con sus familias o para dedicarse a actividades que promuevan su crecimiento personal.</p><p>Esta limitación ha sido motivo de insatisfacción y ha contribuido al estancamiento del progreso laboral en el país azteca. A continuación, mencionamos algunos de los países que han adoptado una semana laboral de alrededor de 40 horas:</p><ul><li>Estados Unidos</li><li>Canadá</li><li>Reino Unido</li><li>Australia</li><li>Nueva Zelanda</li><li>Alemania</li><li>Francia</li><li>España</li><li>Ecuador</li><li>Italia</li><li>Japón</li><li>Corea del Sur</li><li>Brasil</li><li>México</li><li>Argentina</li><li>Chile</li></ul><img alt=\"Miles de afiliados a la Confederación General del Trabajo (CGT) marcharon contra los altos costos de vida y las políticas de ajuste económico, en Buenos Aires, Argentina (Foto: EFE)\" height=\"800\" src=\"https://gestion.pe/resizer/Ni-HCzXIIasvNfGeXnOWSlljXn0=/cloudfront-us-east-1.images.arcpublishing.com/elcomercio/6Z5A4WKBK5EJFGQQB4FUWHZ47I.jpg\" width=\"1200\" /><h2>&lt;b&gt;¿Cómo va el proceso de la reforma para la reducción de la jornada laboral en México?&lt;/b&gt;</h2><p>El dictamen de la reforma constitucional acumula cinco meses guardado en la Comisión de Puntos Constitucionales de la Cámara de Diputados; la reforma fue aprobada el 25 de abril, justo en la última semana del anterior periodo de sesiones. Desde entonces no ha podido avanzar al Pleno.</p><p>El pasado 1 de septiembre inició un nuevo periodo de sesiones en la Cámara de Diputados y hasta el 1 de octubre no hay fecha para que sea discutida en el Pleno la reforma de la jornada laboral.</p><p>Asimismo, la Junta de Coordinación Política (JUCOPO) es el órgano de la Cámara de Diputados encargado de acordar entre los grupos parlamentarios los dictámenes que se suben al Pleno. A la fecha, la reforma de la jornada laboral no ha sido llevada a la JUCOPO como prioridad.</p><h2>&lt;mark class=\"hl_yellow\"&gt;&lt;b&gt;MÁS INFORMACIÓN SOBRE MÉXICO&lt;/b&gt;&lt;/mark&gt;</h2><h3>&lt;b&gt;¿HASTA CUÁNDO DURARÁ EL HORARIO DE INVIERNO?&lt;/b&gt;</h3><p>&lt;a href=\"https://cnnespanol.cnn.com/2023/10/30/cambio-horario-mexico-cuando-donde-noviembre-orix/\"&gt;&lt;b&gt;CNN en español&lt;/b&gt;&lt;/a&gt; también precisó que el horario de invierno en &lt;b&gt;México &lt;/b&gt;inició el &lt;b&gt;domingo 5 de noviembre &lt;/b&gt;y durará hasta el próximo&lt;b&gt; 10 de marzo de 2024.&lt;/b&gt;</p><p>Por lo tanto, la población de los lugares mencionados deberán adaptarse a &lt;a href=\"https://gestion.pe/mix/respuestas/los-estados-y-municipios-de-mexico-que-si-deberan-modificar-el-reloj-por-el-horario-de-invierno-nnda-nnlt-noticia/\"&gt;&lt;b&gt;la nueva medida horaria&lt;/b&gt;&lt;/a&gt;.</p><h3>&lt;b&gt;¿CUÁNDO PAGARÁN EL AGUINALDO DE DICIEMBRE?&lt;/b&gt;</h3><p>De acuerdo con el Artículo 87 de la Ley Federal del Trabajo, el aguinaldo deberá entregarse&lt;b&gt; antes del 20 de diciembre 2023&lt;/b&gt;. Aunque si se trata de un extrabajador, entonces se pagará en la fecha de la terminación de la relación laboral.</p><img alt=\"Una persona sostiene un grupo de billetes de pesos mexicanos (Foto: Freepik)\" height=\"700\" src=\"https://gestion.pe/resizer/KvgYoOGB0HUvHImhYuv98HXkQ0E=/cloudfront-us-east-1.images.arcpublishing.com/elcomercio/3WNNL4WX65A4NMT6YJBIBMLS7Y.jpg\" width=\"1200\" /><h3>&lt;b&gt;EL SALARIO MÍNIMO EN MÉXICO ESTE 2023&lt;/b&gt;</h3><p>&lt;a href=\"https://gestion.pe/mix/respuestas/aumento-de-salario-minimo-en-mexico-lo-que-sabemos-sobre-el-anuncio-de-amlo-nnda-nnlt-noticia/\"&gt;&lt;b&gt;Desde el 1 de enero de 2023, el salario mínimo en México se incrementó en 20%&lt;/b&gt;&lt;/a&gt; en comparación al año anterior; es decir, &lt;b&gt;pasó de 172.87 a 207.44 pesos diarios&lt;/b&gt;, beneficiando a 6.4 millones de trabajadores formales. &lt;i&gt;“Esto representó mil 52 pesos adicionales al mes para las y los trabajadores, y la recuperación del 90% del poder adquisitivo de estos salarios”&lt;/i&gt;, se lee en el &lt;a href=\"https://www.gob.mx/stps/prensa/entran-en-vigor-salarios-minimos-2023-en-todo-el-pais?idiom=es/\"&gt;boletín del Gobierno del país azteca&lt;/a&gt;.</p><h3>&lt;b&gt;CALENDARIO SEP 2024: LISTA DE PUENTES Y DÍAS DE DESCANSO OFICIALES EN MÉXICO&lt;/b&gt;</h3><p>La Secretaría de Educación Pública (SEP) ya tiene la lista de los puentes y los días de descanso oficiales de México en 2024. El conocido como &lt;a href=\"https://gestion.pe/mix/respuestas/calendario-sep-2024-lista-de-puentes-y-dias-de-descanso-oficiales-en-mexico-nnda-nnlt-noticia/\"&gt;calendario SEP 2024 ha programado los descansos que tendrán los estudiantes durante el año&lt;/a&gt;, partiendo desde 1 de enero, considerado como el primer descanso oficial. Mientras que el puente inicial llegará en febrero.</p><h2>&lt;mark class=\"hl_yellow\"&gt;&lt;b&gt;VIDEO RELACIONADO&lt;/b&gt;&lt;/mark&gt;</h2>', 'summary': '¿De qué trata la reducción de la Jornada Laboral en México? Esta reforma busca modificar el artículo 123 Constitucional para reducir la jornada laboral de 48 a 40 horas semanales.'}]}\n"
     ]
    }
   ],
   "source": [
    "data_folder_path = 'data_'\n",
    "sections_data = load_news_data(data_folder_path)\n",
    "print(sections_data)  # Esto imprimirá los datos cargados para cada sección.\n"
   ]
  },
  {
   "cell_type": "code",
   "execution_count": 10,
   "id": "a8793282-d770-4333-9e14-6aa9d2f8e799",
   "metadata": {},
   "outputs": [
    {
     "name": "stdout",
     "output_type": "stream",
     "text": [
      "<h2 class='news-title-center'>Sección 2</h2>\n",
      "        <div class=\"news-item\">\n",
      "            <img src=\"http://a.files.bbci.co.uk/worldservice/live/assets/images/2014/09/23/140923122531_sp_siria_reuters_144.jpg\" class=\"news-image\">\n",
      "            <div class=\"news-content\">\n",
      "                <div class=\"news-title\">Boletín: Primer ataque de EE.UU. y aliados árabes contra Estado Islámico en Siria y otras noticias</div>\n",
      "                <div class=\"news-summary\">Además, Israel mata a dos palestinos que presuntamente asesinaron a tres jóvenes israelíes en junio, OMS advierte que para noviembre podría haber 20.000 casos de ébola, y arranca cumbre del clima de la ONU en Nueva York. La actualidad en 1 minuto.</div>\n",
      "                <a href=\"http://www.bbc.co.uk/mundo/video_fotos/2014/09/140923_video_boletin_noticias_re.shtml\" class=\"news-link\">Leer más</a>\n",
      "            </div>\n",
      "        </div>\n",
      "        \n",
      "        <div class=\"news-item\">\n",
      "            <img src=\"http://a.files.bbci.co.uk/worldservice/live/assets/images/2014/09/01/140901161938_chile_michelle_bachelet_economia_plan_emergencia_144x81_europeanphotopressagency_nocredit.jpg\" class=\"news-image\">\n",
      "            <div class=\"news-content\">\n",
      "                <div class=\"news-title\">Chile: Bachelet anuncia plan de US$500 millones para reforzar economía</div>\n",
      "                <div class=\"news-summary\">El Plan de Reforzamiento de la Inversión 2014 contempla inyectar los fondos en el último cuatrimestre del año para combatir la desaceleración.</div>\n",
      "                <a href=\"http://www.bbc.co.uk/mundo/ultimas_noticias/2014/09/140901_ultnot_chile_bachelet_anuncia_plan_reforzar_economia_lv.shtml\" class=\"news-link\">Leer más</a>\n",
      "            </div>\n",
      "        </div>\n",
      "        \n"
     ]
    }
   ],
   "source": [
    "section_name = list(sections_data.keys())[1]\n",
    "news_data = sections_data[section_name]\n",
    "section_html = generate_news_section(section_name, news_data)\n",
    "print(section_html)  #"
   ]
  },
  {
   "cell_type": "code",
   "execution_count": 16,
   "id": "34dc6f6f-fdac-4d20-8dc6-ca349e60e585",
   "metadata": {},
   "outputs": [],
   "source": [
    "def generate_newsletter_html(template_path, sections_data):\n",
    "    with open(template_path, 'r', encoding='utf-8') as file:\n",
    "        template = file.read()\n",
    "\n",
    "    all_sections_html = \"\"\n",
    "    for section_name, news_data in sections_data.items():\n",
    "        all_sections_html += generate_news_section(section_name, news_data)\n",
    "\n",
    "    return template.replace(\"<!-- Aquí se insertarán los artículos de noticias -->\", all_sections_html)"
   ]
  },
  {
   "cell_type": "code",
   "execution_count": 17,
   "id": "e4faade7-ab13-4107-86df-b367950c584e",
   "metadata": {},
   "outputs": [],
   "source": [
    "template_path = 'template_2.html'\n",
    "newsletter_html = generate_newsletter_html(template_path, sections_data)"
   ]
  },
  {
   "cell_type": "code",
   "execution_count": 15,
   "id": "7dbc6d43-f3a1-4693-b13d-367664318979",
   "metadata": {},
   "outputs": [
    {
     "data": {
      "text/html": [
       "<!DOCTYPE html>\n",
       "<html>\n",
       "<head>\n",
       "    <link rel=\"stylesheet\" href=\"https://cdnjs.cloudflare.com/ajax/libs/font-awesome/6.0.0-beta3/css/all.min.css\">\n",
       "    <style>\n",
       "        body { font-family: Arial, sans-serif; }\n",
       "        .container { \n",
       "            width: 80%; \n",
       "            margin: auto;\n",
       "        }\n",
       "        .header-image { \n",
       "            width: 100%;\n",
       "            max-width: 1220px;\n",
       "            height: 200px;\n",
       "            background-image: url('https://drive.google.com/uc?export=view&id=1QYjJ5NNxcLieeDLYLlZoqkOLbuOn6foV'); \n",
       "            background-size: contain;\n",
       "            background-repeat: no-repeat;\n",
       "            background-position: center;\n",
       "            margin: auto;\n",
       "        }\n",
       "        /* .header-image { \n",
       "            width: 80%;\n",
       "            max-width: 1000px;\n",
       "            height: 150px;\n",
       "            background-image: url('https://drive.google.com/uc?export=view&id=1QYjJ5NNxcLieeDLYLlZoqkOLbuOn6foV'); \n",
       "            background-size: contain;\n",
       "            background-repeat: no-repeat;\n",
       "            background-position: center;\n",
       "            margin: auto;\n",
       "        } */        \n",
       "        .news-title-center { \n",
       "            text-align: center;\n",
       "        }\n",
       "        .news-item { \n",
       "            display: flex; \n",
       "            align-items: flex-start; \n",
       "            margin-bottom: 20px; \n",
       "            border-bottom: 1px solid #FF6F61; /* Línea coral */\n",
       "            padding-bottom: 20px;\n",
       "        }\n",
       "        .news-image { width: 25%; height: auto; margin-right: 20px; }\n",
       "        .news-content { width: 75%; }\n",
       "        .news-title { \n",
       "            font-size: 18px; \n",
       "            font-weight: bold;\n",
       "            color: #0047AB; /* Azul cobalto */\n",
       "            text-align: justify;\n",
       "        }\n",
       "        .news-summary { \n",
       "            font-size: 14px; \n",
       "            margin-top: 10px;\n",
       "            text-align: justify;\n",
       "        }\n",
       "        .news-link { \n",
       "            text-decoration: none; \n",
       "            color: blue; \n",
       "            margin-top: 10px; \n",
       "            display: inline-block; \n",
       "            font-weight: bold;\n",
       "        }\n",
       "        .contact-section { \n",
       "            margin-top: 30px; \n",
       "            font-size: 14px; \n",
       "            background-color: #E0F7FA;\n",
       "            padding: 15px;\n",
       "            text-align: center;\n",
       "        }\n",
       "        .contact-detail { margin-top: 10px; }\n",
       "        .social-links { list-style: none; padding: 0; }\n",
       "        .social-links li { display: inline; margin-right: 10px; }\n",
       "        .social-links .fa-twitter { color: #1DA1F2; }\n",
       "        .social-links .fa-facebook { color: #3b5998; }\n",
       "        .social-links .fa-linkedin { color: #0077b5; }\n",
       "        .social-links .fa-youtube { color: #FF0000; }\n",
       "        .social-links .fa-instagram { color: #E4405F; }\n",
       "        .footer { \n",
       "            margin-top: 30px; \n",
       "            font-size: 12px; \n",
       "            text-align: center; \n",
       "            padding-top: 20px;\n",
       "            border-top: 1px solid #ddd;\n",
       "        }\n",
       "    </style>\n",
       "</head>\n",
       "<body>\n",
       "    <div class=\"header-image\"></div>\n",
       "    <div class=\"container\">\n",
       "        <h1 class=\"news-title-center\">Boletín de Noticias</h1>\n",
       "        <h2 class='news-title-center'>Sección 1</h2>\n",
       "        <div class=\"news-item\">\n",
       "            <img src=\"http://a.files.bbci.co.uk/worldservice/live/assets/images/2014/09/22/140922074747_museo_britanico_144x81_getty_nocredit.jpg\" class=\"news-image\">\n",
       "            <div class=\"news-content\">\n",
       "                <div class=\"news-title\">Recrearán el Museo Británico en el video juego Minecraft</div>\n",
       "                <div class=\"news-summary\">El proyecto es parte del programa Futuro del museo, que tiene el objetivo de llegar a un público más amplio. Se espera que la primera etapa de construcción digital se complete para el 16 de octubre.</div>\n",
       "                <a href=\"http://www.bbc.co.uk/mundo/ultimas_noticias/2014/09/140922_ultnot_museo_britanico_minecraft_nc.shtml\" class=\"news-link\">Leer más</a>\n",
       "            </div>\n",
       "        </div>\n",
       "        \n",
       "        <div class=\"news-item\">\n",
       "            <img src=\"https://elcomercio.pe/resizer/HVHyfa9QmGL2em6SI76sK6PksK4=/cloudfront-us-east-1.images.arcpublishing.com/elcomercio/HBZ36MMTDFFGHEYGD2MFCQ2ONU.jpg\" class=\"news-image\">\n",
       "            <div class=\"news-content\">\n",
       "                <div class=\"news-title\">Línea 1 del Metro de Lima suspende servicios tras reportar fallas en el sistema</div>\n",
       "                <div class=\"news-summary\">El Metro de Lima recomendó a los pasajeros seguir las indicaciones del personal de estaciones.</div>\n",
       "                <a href=\"https://elcomercio.pe/lima/transporte/linea-1-del-metro-de-lima-suspende-servicios-tras-reportar-fallas-en-el-sistema-ultimas-noticia/\" class=\"news-link\">Leer más</a>\n",
       "            </div>\n",
       "        </div>\n",
       "        <h2 class='news-title-center'>Sección 2</h2>\n",
       "        <div class=\"news-item\">\n",
       "            <img src=\"http://a.files.bbci.co.uk/worldservice/live/assets/images/2014/09/23/140923122531_sp_siria_reuters_144.jpg\" class=\"news-image\">\n",
       "            <div class=\"news-content\">\n",
       "                <div class=\"news-title\">Boletín: Primer ataque de EE.UU. y aliados árabes contra Estado Islámico en Siria y otras noticias</div>\n",
       "                <div class=\"news-summary\">Además, Israel mata a dos palestinos que presuntamente asesinaron a tres jóvenes israelíes en junio, OMS advierte que para noviembre podría haber 20.000 casos de ébola, y arranca cumbre del clima de la ONU en Nueva York. La actualidad en 1 minuto.</div>\n",
       "                <a href=\"http://www.bbc.co.uk/mundo/video_fotos/2014/09/140923_video_boletin_noticias_re.shtml\" class=\"news-link\">Leer más</a>\n",
       "            </div>\n",
       "        </div>\n",
       "        \n",
       "        <div class=\"news-item\">\n",
       "            <img src=\"http://a.files.bbci.co.uk/worldservice/live/assets/images/2014/09/01/140901161938_chile_michelle_bachelet_economia_plan_emergencia_144x81_europeanphotopressagency_nocredit.jpg\" class=\"news-image\">\n",
       "            <div class=\"news-content\">\n",
       "                <div class=\"news-title\">Chile: Bachelet anuncia plan de US$500 millones para reforzar economía</div>\n",
       "                <div class=\"news-summary\">El Plan de Reforzamiento de la Inversión 2014 contempla inyectar los fondos en el último cuatrimestre del año para combatir la desaceleración.</div>\n",
       "                <a href=\"http://www.bbc.co.uk/mundo/ultimas_noticias/2014/09/140901_ultnot_chile_bachelet_anuncia_plan_reforzar_economia_lv.shtml\" class=\"news-link\">Leer más</a>\n",
       "            </div>\n",
       "        </div>\n",
       "        <h2 class='news-title-center'>Sección 3</h2>\n",
       "        <div class=\"news-item\">\n",
       "            <img src=\"https://gestion.pe/resizer/wOMSiYOGOICv0daVOjE6lqLpweU=/cloudfront-us-east-1.images.arcpublishing.com/elcomercio/JHK4LGT7AJGXLEWT53MBA3SRPU.jpg\" class=\"news-image\">\n",
       "            <div class=\"news-content\">\n",
       "                <div class=\"news-title\">Reducción de la Jornada Laboral en México: ¿En qué consiste y cuándo será aprobada la propuesta?</div>\n",
       "                <div class=\"news-summary\">¿De qué trata la reducción de la Jornada Laboral en México? Esta reforma busca modificar el artículo 123 Constitucional para reducir la jornada laboral de 48 a 40 horas semanales.</div>\n",
       "                <a href=\"https://gestion.pe/mix/respuestas/jornada-laboral-de-40-horas-a-la-semana-en-mexico-en-que-consiste-desde-cuando-aplica-y-mas-nnda-nnlt-noticia/\" class=\"news-link\">Leer más</a>\n",
       "            </div>\n",
       "        </div>\n",
       "        \n",
       "        <div class=\"contact-section\">\n",
       "            <h2>Contáctanos</h2>\n",
       "            <ul class=\"social-links\">\n",
       "                <li><a href=\"https://twitter.com/OitAmericas\"><i class=\"fab fa-twitter\"></i> Twitter</a></li>\n",
       "                <li><a href=\"https://web.facebook.com/OIT.Americas\"><i class=\"fab fa-facebook\"></i> Facebook</a></li>\n",
       "                <li><a href=\"https://www.linkedin.com/company/oitamericas/\"><i class=\"fab fa-linkedin\"></i> LinkedIn</a></li>\n",
       "                <li><a href=\"https://www.youtube.com/OITAmericas\"><i class=\"fab fa-youtube\"></i> YouTube</a></li>\n",
       "                <li><a href=\"https://www.instagram.com/oit_americas/\"><i class=\"fab fa-instagram\"></i> Instagram</a></li>\n",
       "            </ul>\n",
       "            <div class=\"contact-detail\"><a href=\"mailto:secretariaosra@ilo.org\">secretariaosra@ilo.org</a></div>\n",
       "            <div class=\"contact-detail\">Teléfono: (511) 615 0300</div>\n",
       "            <div class=\"contact-detail\">Ca. Las Flores 275, San Isidro, Lima</div>\n",
       "        </div>\n",
       "    </div>\n",
       "    <div class=\"footer\">\n",
       "        Este boletín se genera automáticamente. Por favor, no responda a este correo electrónico.\n",
       "    </div>\n",
       "</body>\n",
       "</html>"
      ],
      "text/plain": [
       "<IPython.core.display.HTML object>"
      ]
     },
     "metadata": {},
     "output_type": "display_data"
    }
   ],
   "source": [
    "from IPython.display import display, HTML\n",
    "display(HTML(newsletter_html))"
   ]
  }
 ],
 "metadata": {
  "kernelspec": {
   "display_name": "Python 3 (ipykernel)",
   "language": "python",
   "name": "python3"
  },
  "language_info": {
   "codemirror_mode": {
    "name": "ipython",
    "version": 3
   },
   "file_extension": ".py",
   "mimetype": "text/x-python",
   "name": "python",
   "nbconvert_exporter": "python",
   "pygments_lexer": "ipython3",
   "version": "3.11.4"
  }
 },
 "nbformat": 4,
 "nbformat_minor": 5
}
